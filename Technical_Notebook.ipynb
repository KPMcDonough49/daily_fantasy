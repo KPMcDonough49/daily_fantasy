{
 "cells": [
  {
   "cell_type": "markdown",
   "metadata": {},
   "source": [
    "# Imports"
   ]
  },
  {
   "cell_type": "code",
   "execution_count": 749,
   "metadata": {},
   "outputs": [],
   "source": [
    "import pandas as pd\n",
    "import numpy as np\n",
    "import seaborn as sns\n",
    "from matplotlib import pyplot as plt\n",
    "import numpy as np\n",
    "from scipy import stats\n",
    "import pandas as pd\n",
    "import statsmodels.api as sm\n",
    "from sklearn.linear_model import LinearRegression\n",
    "from sklearn.preprocessing import PolynomialFeatures, StandardScaler\n",
    "from statsmodels.formula.api import ols\n",
    "from sklearn.metrics import mean_squared_error\n",
    "from sklearn.linear_model import LogisticRegression\n",
    "from sklearn.tree import DecisionTreeClassifier\n",
    "from sklearn.ensemble import RandomForestClassifier\n",
    "from sklearn.neighbors import KNeighborsClassifier\n",
    "from sklearn import svm\n",
    "from sklearn.preprocessing import OneHotEncoder, StandardScaler\n",
    "from sklearn.model_selection import train_test_split, cross_val_score, GridSearchCV\n",
    "from sklearn.metrics import plot_confusion_matrix\n",
    "from sklearn.metrics import confusion_matrix, accuracy_score, precision_score, recall_score, f1_score, classification_report \n",
    "from sklearn.metrics import plot_roc_curve\n",
    "from sklearn.pipeline import Pipeline\n",
    "from imblearn.pipeline import Pipeline as imbPipeline\n",
    "from sklearn.compose import ColumnTransformer\n",
    "import time\n",
    "from imblearn.over_sampling import SMOTE\n",
    "from sklearn.linear_model import Ridge"
   ]
  },
  {
   "cell_type": "markdown",
   "metadata": {},
   "source": [
    "## Data Import and Cleaning "
   ]
  },
  {
   "cell_type": "markdown",
   "metadata": {},
   "source": [
    "### Import Historic Stats"
   ]
  },
  {
   "cell_type": "code",
   "execution_count": 750,
   "metadata": {},
   "outputs": [
    {
     "name": "stdout",
     "output_type": "stream",
     "text": [
      "Input Current NFL Week3\n",
      "3\n"
     ]
    }
   ],
   "source": [
    "current_week = int(input(\"Input Current NFL Week\"))\n",
    "print(current_week)"
   ]
  },
  {
   "cell_type": "code",
   "execution_count": 751,
   "metadata": {},
   "outputs": [],
   "source": [
    "years = [2017, 2018, 2019, 2020, 2021]"
   ]
  },
  {
   "cell_type": "code",
   "execution_count": 752,
   "metadata": {},
   "outputs": [],
   "source": [
    "stats_list = []\n",
    "for year in years:\n",
    "    if year != 2021:\n",
    "        for i in range(1,18):\n",
    "            name = 'Data/Historic_Stats/'+ str(year) + '_' + str(i) + '.csv'\n",
    "            stats_list.append(name)\n",
    "    else:\n",
    "        for i in range(1, current_week):\n",
    "            name = 'Data/Historic_Stats/'+ str(year) + '_' + str(i) + '.csv'\n",
    "            stats_list.append(name)"
   ]
  },
  {
   "cell_type": "code",
   "execution_count": 753,
   "metadata": {},
   "outputs": [
    {
     "data": {
      "text/plain": [
       "'2017'"
      ]
     },
     "execution_count": 753,
     "metadata": {},
     "output_type": "execute_result"
    }
   ],
   "source": [
    "stats_list[0][-10:-6]"
   ]
  },
  {
   "cell_type": "code",
   "execution_count": 754,
   "metadata": {},
   "outputs": [
    {
     "data": {
      "text/plain": [
       "31"
      ]
     },
     "execution_count": 754,
     "metadata": {},
     "output_type": "execute_result"
    }
   ],
   "source": [
    "len('Data/Historic_Stats/2017_10.csv')"
   ]
  },
  {
   "cell_type": "code",
   "execution_count": 755,
   "metadata": {},
   "outputs": [],
   "source": [
    "historic_stats = pd.DataFrame()\n",
    "for index, item in enumerate(stats_list):\n",
    "    df = pd.read_csv(item)\n",
    "    df = df[['Name', 'Team', 'Week', 'Opponent', 'FantasyPointsPerGameFanDuel', 'FantasyPointsFanDuel']]\n",
    "    df = df.rename(columns={'FantasyPointsPerGameFanDuel':'FPPG', 'FantasyPointsFanDuel':'Points_Scored'})\n",
    "    if len(item) == 30:\n",
    "        df['Year'] = item[-10:-6]\n",
    "    else: \n",
    "        df['Year'] = item[-11:-7]\n",
    "    historic_stats = historic_stats.append(df)"
   ]
  },
  {
   "cell_type": "code",
   "execution_count": 756,
   "metadata": {},
   "outputs": [
    {
     "data": {
      "text/plain": [
       "2020    19876\n",
       "2017    19318\n",
       "2019    19147\n",
       "2018    19105\n",
       "2021     2498\n",
       "Name: Year, dtype: int64"
      ]
     },
     "execution_count": 756,
     "metadata": {},
     "output_type": "execute_result"
    }
   ],
   "source": [
    "historic_stats['Year'].value_counts()"
   ]
  },
  {
   "cell_type": "markdown",
   "metadata": {},
   "source": [
    "### Import Historic Projections "
   ]
  },
  {
   "cell_type": "code",
   "execution_count": 757,
   "metadata": {},
   "outputs": [],
   "source": [
    "proj_list = []\n",
    "for year in years:\n",
    "    if year != 2021:\n",
    "        for i in range(1,18):\n",
    "            name = 'Data/Historic_Proj/'+ str(year) + '_' + str(i) + '.csv'\n",
    "            proj_list.append(name)\n",
    "    else:\n",
    "        for i in range(1, current_week):\n",
    "            name = 'Data/Historic_Proj/'+ str(year) + '_' + str(i) + '.csv'\n",
    "            proj_list.append(name)"
   ]
  },
  {
   "cell_type": "code",
   "execution_count": 758,
   "metadata": {},
   "outputs": [
    {
     "data": {
      "text/plain": [
       "30"
      ]
     },
     "execution_count": 758,
     "metadata": {},
     "output_type": "execute_result"
    }
   ],
   "source": [
    "len('Data/Historic_Proj/2017_10.csv')"
   ]
  },
  {
   "cell_type": "code",
   "execution_count": 759,
   "metadata": {},
   "outputs": [],
   "source": [
    "historic_projections = pd.DataFrame()\n",
    "for item in proj_list:\n",
    "    df = pd.read_csv(item)\n",
    "    df = df[['Name', 'Position', 'Week', 'Team','UpcomingOpponentPositionRank', 'FantasyPointsFanDuel', 'OperatorSalary']]\n",
    "    df = df.rename(columns={'UpcomingOpponentPositionRank':'OPRNK', 'FantasyPointsFanDuel': 'Projected', 'OperatorSalary': 'Salary'})\n",
    "    if len(item) == 29:\n",
    "        df['Year'] = item[-10:-6]\n",
    "    else:\n",
    "        df['Year'] = item[-11:-7]\n",
    "    historic_projections = historic_projections.append(df)"
   ]
  },
  {
   "cell_type": "code",
   "execution_count": 760,
   "metadata": {},
   "outputs": [],
   "source": [
    "merged_data = historic_stats.merge(historic_projections, how='inner', on=['Name', 'Week', 'Year', 'Team'])"
   ]
  },
  {
   "cell_type": "code",
   "execution_count": 761,
   "metadata": {},
   "outputs": [
    {
     "data": {
      "text/html": [
       "<div>\n",
       "<style scoped>\n",
       "    .dataframe tbody tr th:only-of-type {\n",
       "        vertical-align: middle;\n",
       "    }\n",
       "\n",
       "    .dataframe tbody tr th {\n",
       "        vertical-align: top;\n",
       "    }\n",
       "\n",
       "    .dataframe thead th {\n",
       "        text-align: right;\n",
       "    }\n",
       "</style>\n",
       "<table border=\"1\" class=\"dataframe\">\n",
       "  <thead>\n",
       "    <tr style=\"text-align: right;\">\n",
       "      <th></th>\n",
       "      <th>Name</th>\n",
       "      <th>Team</th>\n",
       "      <th>Week</th>\n",
       "      <th>Opponent</th>\n",
       "      <th>FPPG</th>\n",
       "      <th>Points_Scored</th>\n",
       "      <th>Year</th>\n",
       "      <th>Position</th>\n",
       "      <th>OPRNK</th>\n",
       "      <th>Projected</th>\n",
       "      <th>Salary</th>\n",
       "    </tr>\n",
       "  </thead>\n",
       "  <tbody>\n",
       "    <tr>\n",
       "      <th>0</th>\n",
       "      <td>Kareem Hunt</td>\n",
       "      <td>KC</td>\n",
       "      <td>1</td>\n",
       "      <td>NE</td>\n",
       "      <td>43.1</td>\n",
       "      <td>43.10</td>\n",
       "      <td>2017</td>\n",
       "      <td>RB</td>\n",
       "      <td>3.0</td>\n",
       "      <td>10.73</td>\n",
       "      <td>6400</td>\n",
       "    </tr>\n",
       "    <tr>\n",
       "      <th>1</th>\n",
       "      <td>Alex Smith</td>\n",
       "      <td>KC</td>\n",
       "      <td>1</td>\n",
       "      <td>NE</td>\n",
       "      <td>31.0</td>\n",
       "      <td>31.02</td>\n",
       "      <td>2017</td>\n",
       "      <td>QB</td>\n",
       "      <td>11.0</td>\n",
       "      <td>14.69</td>\n",
       "      <td>6900</td>\n",
       "    </tr>\n",
       "    <tr>\n",
       "      <th>2</th>\n",
       "      <td>Matthew Stafford</td>\n",
       "      <td>DET</td>\n",
       "      <td>1</td>\n",
       "      <td>ARI</td>\n",
       "      <td>28.1</td>\n",
       "      <td>28.08</td>\n",
       "      <td>2017</td>\n",
       "      <td>QB</td>\n",
       "      <td>12.0</td>\n",
       "      <td>16.13</td>\n",
       "      <td>7600</td>\n",
       "    </tr>\n",
       "    <tr>\n",
       "      <th>3</th>\n",
       "      <td>Jacksonville Jaguars</td>\n",
       "      <td>JAX</td>\n",
       "      <td>1</td>\n",
       "      <td>HOU</td>\n",
       "      <td>28.0</td>\n",
       "      <td>28.00</td>\n",
       "      <td>2017</td>\n",
       "      <td>DST</td>\n",
       "      <td>NaN</td>\n",
       "      <td>6.40</td>\n",
       "      <td>4100</td>\n",
       "    </tr>\n",
       "    <tr>\n",
       "      <th>4</th>\n",
       "      <td>Los Angeles Rams</td>\n",
       "      <td>LAR</td>\n",
       "      <td>1</td>\n",
       "      <td>IND</td>\n",
       "      <td>28.0</td>\n",
       "      <td>28.00</td>\n",
       "      <td>2017</td>\n",
       "      <td>DST</td>\n",
       "      <td>NaN</td>\n",
       "      <td>7.90</td>\n",
       "      <td>4600</td>\n",
       "    </tr>\n",
       "    <tr>\n",
       "      <th>...</th>\n",
       "      <td>...</td>\n",
       "      <td>...</td>\n",
       "      <td>...</td>\n",
       "      <td>...</td>\n",
       "      <td>...</td>\n",
       "      <td>...</td>\n",
       "      <td>...</td>\n",
       "      <td>...</td>\n",
       "      <td>...</td>\n",
       "      <td>...</td>\n",
       "      <td>...</td>\n",
       "    </tr>\n",
       "    <tr>\n",
       "      <th>26003</th>\n",
       "      <td>Mitchell Trubisky</td>\n",
       "      <td>BUF</td>\n",
       "      <td>2</td>\n",
       "      <td>MIA</td>\n",
       "      <td>-0.2</td>\n",
       "      <td>-0.20</td>\n",
       "      <td>2021</td>\n",
       "      <td>QB</td>\n",
       "      <td>8.0</td>\n",
       "      <td>0.44</td>\n",
       "      <td>6300</td>\n",
       "    </tr>\n",
       "    <tr>\n",
       "      <th>26004</th>\n",
       "      <td>Jordan Love</td>\n",
       "      <td>GB</td>\n",
       "      <td>2</td>\n",
       "      <td>DET</td>\n",
       "      <td>-0.3</td>\n",
       "      <td>-0.30</td>\n",
       "      <td>2021</td>\n",
       "      <td>QB</td>\n",
       "      <td>16.0</td>\n",
       "      <td>0.33</td>\n",
       "      <td>6200</td>\n",
       "    </tr>\n",
       "    <tr>\n",
       "      <th>26005</th>\n",
       "      <td>Blaine Gabbert</td>\n",
       "      <td>TB</td>\n",
       "      <td>2</td>\n",
       "      <td>ATL</td>\n",
       "      <td>-0.3</td>\n",
       "      <td>-0.30</td>\n",
       "      <td>2021</td>\n",
       "      <td>QB</td>\n",
       "      <td>28.0</td>\n",
       "      <td>0.31</td>\n",
       "      <td>6000</td>\n",
       "    </tr>\n",
       "    <tr>\n",
       "      <th>26006</th>\n",
       "      <td>Detroit Lions</td>\n",
       "      <td>DET</td>\n",
       "      <td>2</td>\n",
       "      <td>GB</td>\n",
       "      <td>-1.0</td>\n",
       "      <td>-1.00</td>\n",
       "      <td>2021</td>\n",
       "      <td>DST</td>\n",
       "      <td>NaN</td>\n",
       "      <td>3.60</td>\n",
       "      <td>3000</td>\n",
       "    </tr>\n",
       "    <tr>\n",
       "      <th>26007</th>\n",
       "      <td>Jakeem Grant Sr.</td>\n",
       "      <td>MIA</td>\n",
       "      <td>2</td>\n",
       "      <td>BUF</td>\n",
       "      <td>-1.5</td>\n",
       "      <td>-1.50</td>\n",
       "      <td>2021</td>\n",
       "      <td>WR</td>\n",
       "      <td>10.0</td>\n",
       "      <td>1.28</td>\n",
       "      <td>4500</td>\n",
       "    </tr>\n",
       "  </tbody>\n",
       "</table>\n",
       "<p>26008 rows × 11 columns</p>\n",
       "</div>"
      ],
      "text/plain": [
       "                       Name Team  Week Opponent  FPPG  Points_Scored  Year  \\\n",
       "0               Kareem Hunt   KC     1       NE  43.1          43.10  2017   \n",
       "1                Alex Smith   KC     1       NE  31.0          31.02  2017   \n",
       "2          Matthew Stafford  DET     1      ARI  28.1          28.08  2017   \n",
       "3      Jacksonville Jaguars  JAX     1      HOU  28.0          28.00  2017   \n",
       "4          Los Angeles Rams  LAR     1      IND  28.0          28.00  2017   \n",
       "...                     ...  ...   ...      ...   ...            ...   ...   \n",
       "26003     Mitchell Trubisky  BUF     2      MIA  -0.2          -0.20  2021   \n",
       "26004           Jordan Love   GB     2      DET  -0.3          -0.30  2021   \n",
       "26005        Blaine Gabbert   TB     2      ATL  -0.3          -0.30  2021   \n",
       "26006         Detroit Lions  DET     2       GB  -1.0          -1.00  2021   \n",
       "26007      Jakeem Grant Sr.  MIA     2      BUF  -1.5          -1.50  2021   \n",
       "\n",
       "      Position  OPRNK  Projected  Salary  \n",
       "0           RB    3.0      10.73    6400  \n",
       "1           QB   11.0      14.69    6900  \n",
       "2           QB   12.0      16.13    7600  \n",
       "3          DST    NaN       6.40    4100  \n",
       "4          DST    NaN       7.90    4600  \n",
       "...        ...    ...        ...     ...  \n",
       "26003       QB    8.0       0.44    6300  \n",
       "26004       QB   16.0       0.33    6200  \n",
       "26005       QB   28.0       0.31    6000  \n",
       "26006      DST    NaN       3.60    3000  \n",
       "26007       WR   10.0       1.28    4500  \n",
       "\n",
       "[26008 rows x 11 columns]"
      ]
     },
     "execution_count": 761,
     "metadata": {},
     "output_type": "execute_result"
    }
   ],
   "source": [
    "merged_data"
   ]
  },
  {
   "cell_type": "code",
   "execution_count": 762,
   "metadata": {},
   "outputs": [],
   "source": [
    "merged_data = merged_data.drop(merged_data[(merged_data['Name'] == 'Chris Thompson') & (merged_data['Team'] == 'HOU')].index)"
   ]
  },
  {
   "cell_type": "markdown",
   "metadata": {},
   "source": [
    "I noticed there were two Chris Thompsons for 2017 (one on Washington and one on Houston) so I decided to drop the Houston Chris Thompson because it would interfere with the groupbys later in the process"
   ]
  },
  {
   "cell_type": "code",
   "execution_count": 763,
   "metadata": {},
   "outputs": [],
   "source": [
    "merged_data = merged_data[merged_data['Position'] != 'DST']\n",
    "merged_data = merged_data[merged_data['Position'] != 'K']\n",
    "merged_data = merged_data[merged_data['Position'] != 'LB']\n",
    "merged_data = merged_data[merged_data['Position'] != 'DB']"
   ]
  },
  {
   "cell_type": "code",
   "execution_count": 764,
   "metadata": {},
   "outputs": [
    {
     "data": {
      "text/plain": [
       "WR    8904\n",
       "RB    6632\n",
       "TE    5541\n",
       "QB    2402\n",
       "Name: Position, dtype: int64"
      ]
     },
     "execution_count": 764,
     "metadata": {},
     "output_type": "execute_result"
    }
   ],
   "source": [
    "merged_data['Position'].value_counts()"
   ]
  },
  {
   "cell_type": "code",
   "execution_count": 765,
   "metadata": {},
   "outputs": [
    {
     "data": {
      "text/plain": [
       "38"
      ]
     },
     "execution_count": 765,
     "metadata": {},
     "output_type": "execute_result"
    }
   ],
   "source": [
    "merged_data.duplicated().sum()"
   ]
  },
  {
   "cell_type": "code",
   "execution_count": 766,
   "metadata": {},
   "outputs": [],
   "source": [
    "merged_data = merged_data.drop_duplicates()"
   ]
  },
  {
   "cell_type": "code",
   "execution_count": 767,
   "metadata": {},
   "outputs": [
    {
     "data": {
      "text/plain": [
       "2020    6450\n",
       "2019    5645\n",
       "2018    5551\n",
       "2017    5025\n",
       "2021     770\n",
       "Name: Year, dtype: int64"
      ]
     },
     "execution_count": 767,
     "metadata": {},
     "output_type": "execute_result"
    }
   ],
   "source": [
    "merged_data['Year'].value_counts()"
   ]
  },
  {
   "cell_type": "code",
   "execution_count": 768,
   "metadata": {},
   "outputs": [],
   "source": [
    "grouped = merged_data.groupby(['Name','Year','Week']).sum()"
   ]
  },
  {
   "cell_type": "markdown",
   "metadata": {},
   "source": [
    "It looks like the Fantasy Points Per Game column is just the points scored column right now so we need to calculate that manually"
   ]
  },
  {
   "cell_type": "code",
   "execution_count": 769,
   "metadata": {},
   "outputs": [],
   "source": [
    "grouped['Games_Played'] = 1"
   ]
  },
  {
   "cell_type": "code",
   "execution_count": 770,
   "metadata": {
    "scrolled": true
   },
   "outputs": [],
   "source": [
    "new_df = grouped.groupby(level=[0,1]).cumsum().reset_index()"
   ]
  },
  {
   "cell_type": "code",
   "execution_count": 771,
   "metadata": {},
   "outputs": [],
   "source": [
    "new_df['Fantasy_PPG'] = round(new_df['Points_Scored'] / new_df['Games_Played'], 1)"
   ]
  },
  {
   "cell_type": "code",
   "execution_count": 772,
   "metadata": {},
   "outputs": [],
   "source": [
    "new_df['Fantasy_PPG'] = new_df.groupby(['Name', 'Year'])['Fantasy_PPG'].shift()"
   ]
  },
  {
   "cell_type": "code",
   "execution_count": 773,
   "metadata": {},
   "outputs": [],
   "source": [
    "new_df = new_df[['Name', 'Year', 'Week', 'Fantasy_PPG', 'Games_Played']]"
   ]
  },
  {
   "cell_type": "code",
   "execution_count": 774,
   "metadata": {},
   "outputs": [
    {
     "data": {
      "text/html": [
       "<div>\n",
       "<style scoped>\n",
       "    .dataframe tbody tr th:only-of-type {\n",
       "        vertical-align: middle;\n",
       "    }\n",
       "\n",
       "    .dataframe tbody tr th {\n",
       "        vertical-align: top;\n",
       "    }\n",
       "\n",
       "    .dataframe thead th {\n",
       "        text-align: right;\n",
       "    }\n",
       "</style>\n",
       "<table border=\"1\" class=\"dataframe\">\n",
       "  <thead>\n",
       "    <tr style=\"text-align: right;\">\n",
       "      <th></th>\n",
       "      <th>Name</th>\n",
       "      <th>Year</th>\n",
       "      <th>Week</th>\n",
       "      <th>Fantasy_PPG</th>\n",
       "      <th>Games_Played</th>\n",
       "    </tr>\n",
       "  </thead>\n",
       "  <tbody>\n",
       "    <tr>\n",
       "      <th>0</th>\n",
       "      <td>A.J. Brown</td>\n",
       "      <td>2019</td>\n",
       "      <td>1</td>\n",
       "      <td>NaN</td>\n",
       "      <td>1</td>\n",
       "    </tr>\n",
       "    <tr>\n",
       "      <th>1</th>\n",
       "      <td>A.J. Brown</td>\n",
       "      <td>2019</td>\n",
       "      <td>2</td>\n",
       "      <td>11.5</td>\n",
       "      <td>2</td>\n",
       "    </tr>\n",
       "    <tr>\n",
       "      <th>2</th>\n",
       "      <td>A.J. Brown</td>\n",
       "      <td>2019</td>\n",
       "      <td>3</td>\n",
       "      <td>7.8</td>\n",
       "      <td>3</td>\n",
       "    </tr>\n",
       "    <tr>\n",
       "      <th>3</th>\n",
       "      <td>A.J. Brown</td>\n",
       "      <td>2019</td>\n",
       "      <td>4</td>\n",
       "      <td>5.5</td>\n",
       "      <td>4</td>\n",
       "    </tr>\n",
       "    <tr>\n",
       "      <th>4</th>\n",
       "      <td>A.J. Brown</td>\n",
       "      <td>2019</td>\n",
       "      <td>5</td>\n",
       "      <td>9.8</td>\n",
       "      <td>5</td>\n",
       "    </tr>\n",
       "    <tr>\n",
       "      <th>...</th>\n",
       "      <td>...</td>\n",
       "      <td>...</td>\n",
       "      <td>...</td>\n",
       "      <td>...</td>\n",
       "      <td>...</td>\n",
       "    </tr>\n",
       "    <tr>\n",
       "      <th>23425</th>\n",
       "      <td>Zay Jones</td>\n",
       "      <td>2020</td>\n",
       "      <td>14</td>\n",
       "      <td>1.9</td>\n",
       "      <td>13</td>\n",
       "    </tr>\n",
       "    <tr>\n",
       "      <th>23426</th>\n",
       "      <td>Zay Jones</td>\n",
       "      <td>2020</td>\n",
       "      <td>15</td>\n",
       "      <td>1.8</td>\n",
       "      <td>14</td>\n",
       "    </tr>\n",
       "    <tr>\n",
       "      <th>23427</th>\n",
       "      <td>Zay Jones</td>\n",
       "      <td>2020</td>\n",
       "      <td>16</td>\n",
       "      <td>1.8</td>\n",
       "      <td>15</td>\n",
       "    </tr>\n",
       "    <tr>\n",
       "      <th>23428</th>\n",
       "      <td>Zay Jones</td>\n",
       "      <td>2020</td>\n",
       "      <td>17</td>\n",
       "      <td>1.7</td>\n",
       "      <td>16</td>\n",
       "    </tr>\n",
       "    <tr>\n",
       "      <th>23429</th>\n",
       "      <td>Zay Jones</td>\n",
       "      <td>2021</td>\n",
       "      <td>2</td>\n",
       "      <td>NaN</td>\n",
       "      <td>1</td>\n",
       "    </tr>\n",
       "  </tbody>\n",
       "</table>\n",
       "<p>23430 rows × 5 columns</p>\n",
       "</div>"
      ],
      "text/plain": [
       "             Name  Year  Week  Fantasy_PPG  Games_Played\n",
       "0      A.J. Brown  2019     1          NaN             1\n",
       "1      A.J. Brown  2019     2         11.5             2\n",
       "2      A.J. Brown  2019     3          7.8             3\n",
       "3      A.J. Brown  2019     4          5.5             4\n",
       "4      A.J. Brown  2019     5          9.8             5\n",
       "...           ...   ...   ...          ...           ...\n",
       "23425   Zay Jones  2020    14          1.9            13\n",
       "23426   Zay Jones  2020    15          1.8            14\n",
       "23427   Zay Jones  2020    16          1.8            15\n",
       "23428   Zay Jones  2020    17          1.7            16\n",
       "23429   Zay Jones  2021     2          NaN             1\n",
       "\n",
       "[23430 rows x 5 columns]"
      ]
     },
     "execution_count": 774,
     "metadata": {},
     "output_type": "execute_result"
    }
   ],
   "source": [
    "new_df"
   ]
  },
  {
   "cell_type": "code",
   "execution_count": 775,
   "metadata": {},
   "outputs": [],
   "source": [
    "new_df['FPPG'] = round(new_df.groupby(['Year','Name'])['Fantasy_PPG'].transform(lambda x: x.fillna(x.mean())), 1)"
   ]
  },
  {
   "cell_type": "code",
   "execution_count": 776,
   "metadata": {},
   "outputs": [],
   "source": [
    "new_df = new_df.drop('Fantasy_PPG', axis=1)"
   ]
  },
  {
   "cell_type": "code",
   "execution_count": 777,
   "metadata": {},
   "outputs": [],
   "source": [
    "newnew_df = new_df.dropna()"
   ]
  },
  {
   "cell_type": "code",
   "execution_count": 778,
   "metadata": {},
   "outputs": [],
   "source": [
    "merged_data = merged_data.drop('FPPG', axis=1)"
   ]
  },
  {
   "cell_type": "code",
   "execution_count": 779,
   "metadata": {},
   "outputs": [],
   "source": [
    "merged_data = pd.merge(merged_data, new_df, how='inner', on=['Name','Year','Week'])"
   ]
  },
  {
   "cell_type": "code",
   "execution_count": 780,
   "metadata": {},
   "outputs": [
    {
     "data": {
      "text/plain": [
       "2     1928\n",
       "1     1863\n",
       "14    1501\n",
       "3     1499\n",
       "15    1486\n",
       "13    1452\n",
       "16    1424\n",
       "4     1406\n",
       "12    1378\n",
       "6     1343\n",
       "10    1289\n",
       "9     1277\n",
       "11    1275\n",
       "17    1206\n",
       "5     1059\n",
       "7     1028\n",
       "8     1027\n",
       "Name: Week, dtype: int64"
      ]
     },
     "execution_count": 780,
     "metadata": {},
     "output_type": "execute_result"
    }
   ],
   "source": [
    "merged_data['Week'].value_counts()"
   ]
  },
  {
   "cell_type": "code",
   "execution_count": 781,
   "metadata": {},
   "outputs": [
    {
     "data": {
      "text/html": [
       "<div>\n",
       "<style scoped>\n",
       "    .dataframe tbody tr th:only-of-type {\n",
       "        vertical-align: middle;\n",
       "    }\n",
       "\n",
       "    .dataframe tbody tr th {\n",
       "        vertical-align: top;\n",
       "    }\n",
       "\n",
       "    .dataframe thead th {\n",
       "        text-align: right;\n",
       "    }\n",
       "</style>\n",
       "<table border=\"1\" class=\"dataframe\">\n",
       "  <thead>\n",
       "    <tr style=\"text-align: right;\">\n",
       "      <th></th>\n",
       "      <th>Name</th>\n",
       "      <th>Team</th>\n",
       "      <th>Week</th>\n",
       "      <th>Opponent</th>\n",
       "      <th>Points_Scored</th>\n",
       "      <th>Year</th>\n",
       "      <th>Position</th>\n",
       "      <th>OPRNK</th>\n",
       "      <th>Projected</th>\n",
       "      <th>Salary</th>\n",
       "      <th>Games_Played</th>\n",
       "      <th>FPPG</th>\n",
       "    </tr>\n",
       "  </thead>\n",
       "  <tbody>\n",
       "    <tr>\n",
       "      <th>66</th>\n",
       "      <td>Tom Brady</td>\n",
       "      <td>NE</td>\n",
       "      <td>1</td>\n",
       "      <td>KC</td>\n",
       "      <td>10.68</td>\n",
       "      <td>2017</td>\n",
       "      <td>QB</td>\n",
       "      <td>10.0</td>\n",
       "      <td>20.06</td>\n",
       "      <td>8900</td>\n",
       "      <td>1</td>\n",
       "      <td>20.8</td>\n",
       "    </tr>\n",
       "    <tr>\n",
       "      <th>369</th>\n",
       "      <td>Tom Brady</td>\n",
       "      <td>NE</td>\n",
       "      <td>2</td>\n",
       "      <td>NO</td>\n",
       "      <td>30.78</td>\n",
       "      <td>2017</td>\n",
       "      <td>QB</td>\n",
       "      <td>27.0</td>\n",
       "      <td>22.17</td>\n",
       "      <td>9200</td>\n",
       "      <td>2</td>\n",
       "      <td>10.7</td>\n",
       "    </tr>\n",
       "    <tr>\n",
       "      <th>739</th>\n",
       "      <td>Tom Brady</td>\n",
       "      <td>NE</td>\n",
       "      <td>3</td>\n",
       "      <td>HOU</td>\n",
       "      <td>35.72</td>\n",
       "      <td>2017</td>\n",
       "      <td>QB</td>\n",
       "      <td>5.0</td>\n",
       "      <td>18.70</td>\n",
       "      <td>9400</td>\n",
       "      <td>3</td>\n",
       "      <td>20.7</td>\n",
       "    </tr>\n",
       "    <tr>\n",
       "      <th>1136</th>\n",
       "      <td>Tom Brady</td>\n",
       "      <td>NE</td>\n",
       "      <td>4</td>\n",
       "      <td>CAR</td>\n",
       "      <td>20.48</td>\n",
       "      <td>2017</td>\n",
       "      <td>QB</td>\n",
       "      <td>7.0</td>\n",
       "      <td>20.62</td>\n",
       "      <td>9500</td>\n",
       "      <td>4</td>\n",
       "      <td>25.7</td>\n",
       "    </tr>\n",
       "    <tr>\n",
       "      <th>1503</th>\n",
       "      <td>Tom Brady</td>\n",
       "      <td>NE</td>\n",
       "      <td>5</td>\n",
       "      <td>TB</td>\n",
       "      <td>13.62</td>\n",
       "      <td>2017</td>\n",
       "      <td>QB</td>\n",
       "      <td>30.0</td>\n",
       "      <td>21.87</td>\n",
       "      <td>9500</td>\n",
       "      <td>5</td>\n",
       "      <td>24.4</td>\n",
       "    </tr>\n",
       "    <tr>\n",
       "      <th>...</th>\n",
       "      <td>...</td>\n",
       "      <td>...</td>\n",
       "      <td>...</td>\n",
       "      <td>...</td>\n",
       "      <td>...</td>\n",
       "      <td>...</td>\n",
       "      <td>...</td>\n",
       "      <td>...</td>\n",
       "      <td>...</td>\n",
       "      <td>...</td>\n",
       "      <td>...</td>\n",
       "      <td>...</td>\n",
       "    </tr>\n",
       "    <tr>\n",
       "      <th>21082</th>\n",
       "      <td>Tom Brady</td>\n",
       "      <td>TB</td>\n",
       "      <td>14</td>\n",
       "      <td>MIN</td>\n",
       "      <td>15.64</td>\n",
       "      <td>2020</td>\n",
       "      <td>QB</td>\n",
       "      <td>14.0</td>\n",
       "      <td>20.15</td>\n",
       "      <td>7800</td>\n",
       "      <td>13</td>\n",
       "      <td>20.8</td>\n",
       "    </tr>\n",
       "    <tr>\n",
       "      <th>21460</th>\n",
       "      <td>Tom Brady</td>\n",
       "      <td>TB</td>\n",
       "      <td>15</td>\n",
       "      <td>ATL</td>\n",
       "      <td>23.40</td>\n",
       "      <td>2020</td>\n",
       "      <td>QB</td>\n",
       "      <td>32.0</td>\n",
       "      <td>20.34</td>\n",
       "      <td>7900</td>\n",
       "      <td>14</td>\n",
       "      <td>20.4</td>\n",
       "    </tr>\n",
       "    <tr>\n",
       "      <th>21851</th>\n",
       "      <td>Tom Brady</td>\n",
       "      <td>TB</td>\n",
       "      <td>16</td>\n",
       "      <td>DET</td>\n",
       "      <td>29.92</td>\n",
       "      <td>2020</td>\n",
       "      <td>QB</td>\n",
       "      <td>29.0</td>\n",
       "      <td>21.29</td>\n",
       "      <td>8000</td>\n",
       "      <td>15</td>\n",
       "      <td>20.6</td>\n",
       "    </tr>\n",
       "    <tr>\n",
       "      <th>22272</th>\n",
       "      <td>Tom Brady</td>\n",
       "      <td>TB</td>\n",
       "      <td>17</td>\n",
       "      <td>ATL</td>\n",
       "      <td>31.26</td>\n",
       "      <td>2020</td>\n",
       "      <td>QB</td>\n",
       "      <td>32.0</td>\n",
       "      <td>20.70</td>\n",
       "      <td>8400</td>\n",
       "      <td>16</td>\n",
       "      <td>21.2</td>\n",
       "    </tr>\n",
       "    <tr>\n",
       "      <th>23016</th>\n",
       "      <td>Tom Brady</td>\n",
       "      <td>TB</td>\n",
       "      <td>2</td>\n",
       "      <td>ATL</td>\n",
       "      <td>29.64</td>\n",
       "      <td>2021</td>\n",
       "      <td>QB</td>\n",
       "      <td>28.0</td>\n",
       "      <td>23.52</td>\n",
       "      <td>8200</td>\n",
       "      <td>1</td>\n",
       "      <td>NaN</td>\n",
       "    </tr>\n",
       "  </tbody>\n",
       "</table>\n",
       "<p>63 rows × 12 columns</p>\n",
       "</div>"
      ],
      "text/plain": [
       "            Name Team  Week Opponent  Points_Scored  Year Position  OPRNK  \\\n",
       "66     Tom Brady   NE     1       KC          10.68  2017       QB   10.0   \n",
       "369    Tom Brady   NE     2       NO          30.78  2017       QB   27.0   \n",
       "739    Tom Brady   NE     3      HOU          35.72  2017       QB    5.0   \n",
       "1136   Tom Brady   NE     4      CAR          20.48  2017       QB    7.0   \n",
       "1503   Tom Brady   NE     5       TB          13.62  2017       QB   30.0   \n",
       "...          ...  ...   ...      ...            ...   ...      ...    ...   \n",
       "21082  Tom Brady   TB    14      MIN          15.64  2020       QB   14.0   \n",
       "21460  Tom Brady   TB    15      ATL          23.40  2020       QB   32.0   \n",
       "21851  Tom Brady   TB    16      DET          29.92  2020       QB   29.0   \n",
       "22272  Tom Brady   TB    17      ATL          31.26  2020       QB   32.0   \n",
       "23016  Tom Brady   TB     2      ATL          29.64  2021       QB   28.0   \n",
       "\n",
       "       Projected  Salary  Games_Played  FPPG  \n",
       "66         20.06    8900             1  20.8  \n",
       "369        22.17    9200             2  10.7  \n",
       "739        18.70    9400             3  20.7  \n",
       "1136       20.62    9500             4  25.7  \n",
       "1503       21.87    9500             5  24.4  \n",
       "...          ...     ...           ...   ...  \n",
       "21082      20.15    7800            13  20.8  \n",
       "21460      20.34    7900            14  20.4  \n",
       "21851      21.29    8000            15  20.6  \n",
       "22272      20.70    8400            16  21.2  \n",
       "23016      23.52    8200             1   NaN  \n",
       "\n",
       "[63 rows x 12 columns]"
      ]
     },
     "execution_count": 781,
     "metadata": {},
     "output_type": "execute_result"
    }
   ],
   "source": [
    "merged_data[merged_data['Name'] == 'Tom Brady']"
   ]
  },
  {
   "cell_type": "code",
   "execution_count": 782,
   "metadata": {},
   "outputs": [
    {
     "data": {
      "text/plain": [
       "Index(['ATL', 'KC', 'BUF', 'DEN', 'SF', 'LV', 'NE', 'PIT', 'TEN', 'MIA', 'NYJ',\n",
       "       'NO', 'DAL', 'TB', 'CLE', 'NYG', 'SEA', 'GB', 'PHI', 'IND', 'ARI',\n",
       "       'BAL', 'CAR', 'LAC', 'CIN', 'CHI', 'WAS', 'MIN', 'JAX', 'LAR', 'HOU',\n",
       "       'DET'],\n",
       "      dtype='object')"
      ]
     },
     "execution_count": 782,
     "metadata": {},
     "output_type": "execute_result"
    }
   ],
   "source": [
    "merged_data['Team'].value_counts().index"
   ]
  },
  {
   "cell_type": "markdown",
   "metadata": {},
   "source": [
    "### Merge With Betting Data"
   ]
  },
  {
   "cell_type": "code",
   "execution_count": 783,
   "metadata": {},
   "outputs": [],
   "source": [
    "betting_data = pd.read_excel('Data/clean_nfl_historic_betting_data_Home.xlsx')"
   ]
  },
  {
   "cell_type": "code",
   "execution_count": 784,
   "metadata": {},
   "outputs": [],
   "source": [
    "betting_data_2 = pd.read_excel('Data/clean_nfl_historic_betting_data_Away.xlsx')"
   ]
  },
  {
   "cell_type": "code",
   "execution_count": 785,
   "metadata": {},
   "outputs": [],
   "source": [
    "betting_data = pd.concat([betting_data, betting_data_2])"
   ]
  },
  {
   "cell_type": "code",
   "execution_count": 786,
   "metadata": {},
   "outputs": [
    {
     "name": "stdout",
     "output_type": "stream",
     "text": [
      "<class 'pandas.core.frame.DataFrame'>\n",
      "Int64Index: 8078 entries, 0 to 4038\n",
      "Data columns (total 7 columns):\n",
      " #   Column             Non-Null Count  Dtype         \n",
      "---  ------             --------------  -----         \n",
      " 0   Date               8078 non-null   datetime64[ns]\n",
      " 1   Team               8078 non-null   object        \n",
      " 2   Line Close         3806 non-null   float64       \n",
      " 3   Total Score Close  3806 non-null   float64       \n",
      " 4   Team Proj          3806 non-null   float64       \n",
      " 5   Week               3806 non-null   float64       \n",
      " 6   Home / Away        3806 non-null   object        \n",
      "dtypes: datetime64[ns](1), float64(4), object(2)\n",
      "memory usage: 504.9+ KB\n"
     ]
    }
   ],
   "source": [
    "betting_data.info()"
   ]
  },
  {
   "cell_type": "code",
   "execution_count": 787,
   "metadata": {},
   "outputs": [],
   "source": [
    "betting_data['Year'] = betting_data['Date'].dt.year"
   ]
  },
  {
   "cell_type": "code",
   "execution_count": 788,
   "metadata": {},
   "outputs": [],
   "source": [
    "betting_data['Year'] = betting_data['Year'].astype(str)"
   ]
  },
  {
   "cell_type": "code",
   "execution_count": 789,
   "metadata": {},
   "outputs": [
    {
     "data": {
      "text/plain": [
       "2012    566\n",
       "2017    566\n",
       "2007    534\n",
       "2016    534\n",
       "2013    534\n",
       "2008    534\n",
       "2014    534\n",
       "2018    534\n",
       "2019    534\n",
       "2010    534\n",
       "2011    534\n",
       "2006    512\n",
       "2020    502\n",
       "2009    502\n",
       "2015    502\n",
       "2021    121\n",
       "1905      1\n",
       "Name: Year, dtype: int64"
      ]
     },
     "execution_count": 789,
     "metadata": {},
     "output_type": "execute_result"
    }
   ],
   "source": [
    "betting_data['Year'].value_counts()"
   ]
  },
  {
   "cell_type": "code",
   "execution_count": 790,
   "metadata": {},
   "outputs": [],
   "source": [
    "betting_data = betting_data[betting_data['Week'] != 0]"
   ]
  },
  {
   "cell_type": "code",
   "execution_count": 791,
   "metadata": {},
   "outputs": [],
   "source": [
    "merged_data = merged_data.merge(betting_data, how='inner', on=['Team', 'Week', 'Year'])"
   ]
  },
  {
   "cell_type": "code",
   "execution_count": 792,
   "metadata": {},
   "outputs": [],
   "source": [
    "merged_data = merged_data[merged_data['Week'] != 17]"
   ]
  },
  {
   "cell_type": "code",
   "execution_count": 793,
   "metadata": {},
   "outputs": [],
   "source": [
    "historic_dome_teams = ['ATL', 'HOU', 'DAL', 'IND', 'ARI', 'NO', 'DET', 'MIN']"
   ]
  },
  {
   "cell_type": "code",
   "execution_count": 794,
   "metadata": {},
   "outputs": [],
   "source": [
    "merged_data[\"Dome\"] = np.where((merged_data['Team'].isin(historic_dome_teams)) & (merged_data['Home / Away'] == \"Home\"), \"Dome\", \"Outside\")\n",
    "    \n",
    "# merged_data[\"Dome\"] = np.select(conditions, choices, default=np.nan)"
   ]
  },
  {
   "cell_type": "code",
   "execution_count": 795,
   "metadata": {},
   "outputs": [
    {
     "data": {
      "text/plain": [
       "Outside    19456\n",
       "Dome        2781\n",
       "Name: Dome, dtype: int64"
      ]
     },
     "execution_count": 795,
     "metadata": {},
     "output_type": "execute_result"
    }
   ],
   "source": [
    "merged_data['Dome'].value_counts()"
   ]
  },
  {
   "cell_type": "code",
   "execution_count": 796,
   "metadata": {},
   "outputs": [],
   "source": [
    "merged_data[\"Dome\"] = np.where((merged_data['Team'].isin(historic_dome_teams)) & (merged_data['Home / Away'] == \"Home\"), \"Dome\", np.where((merged_data['Opponent'].isin(historic_dome_teams)) & (merged_data['Home / Away'] == \"Away\"), \"Dome\", 'Outside'))\n",
    "# condition3 = (merged_data['Opponent'] not in (historic_dome_teams)) & (merged_data['Team'] not in (historic_dome_teams))"
   ]
  },
  {
   "cell_type": "code",
   "execution_count": 797,
   "metadata": {},
   "outputs": [
    {
     "data": {
      "text/plain": [
       "Outside    16651\n",
       "Dome        5586\n",
       "Name: Dome, dtype: int64"
      ]
     },
     "execution_count": 797,
     "metadata": {},
     "output_type": "execute_result"
    }
   ],
   "source": [
    "merged_data['Dome'].value_counts()"
   ]
  },
  {
   "cell_type": "code",
   "execution_count": 798,
   "metadata": {},
   "outputs": [],
   "source": [
    "merged_data = merged_data.rename(columns={'Line Close':'line_close', 'Total Score Close':'over_under'})\n",
    "merged_data = merged_data.rename(columns={'Team Proj':'team_proj', 'Home / Away':'home_away'})"
   ]
  },
  {
   "cell_type": "markdown",
   "metadata": {},
   "source": [
    "## Modeling"
   ]
  },
  {
   "cell_type": "code",
   "execution_count": 801,
   "metadata": {},
   "outputs": [
    {
     "name": "stdout",
     "output_type": "stream",
     "text": [
      "<class 'pandas.core.frame.DataFrame'>\n",
      "Int64Index: 22237 entries, 0 to 23035\n",
      "Data columns (total 18 columns):\n",
      " #   Column         Non-Null Count  Dtype         \n",
      "---  ------         --------------  -----         \n",
      " 0   Name           22237 non-null  object        \n",
      " 1   Team           22237 non-null  object        \n",
      " 2   Week           22237 non-null  int64         \n",
      " 3   Opponent       22237 non-null  object        \n",
      " 4   Points_Scored  22237 non-null  float64       \n",
      " 5   Year           22237 non-null  object        \n",
      " 6   Position       22237 non-null  object        \n",
      " 7   OPRNK          22214 non-null  float64       \n",
      " 8   Projected      22214 non-null  float64       \n",
      " 9   Salary         22237 non-null  int64         \n",
      " 10  Games_Played   22237 non-null  int64         \n",
      " 11  FPPG           21993 non-null  float64       \n",
      " 12  Date           22237 non-null  datetime64[ns]\n",
      " 13  line_close     22237 non-null  float64       \n",
      " 14  over_under     22237 non-null  float64       \n",
      " 15  team_proj      22237 non-null  float64       \n",
      " 16  home_away      22237 non-null  object        \n",
      " 17  Dome           22237 non-null  object        \n",
      "dtypes: datetime64[ns](1), float64(7), int64(3), object(7)\n",
      "memory usage: 3.2+ MB\n"
     ]
    }
   ],
   "source": [
    "merged_data.info()"
   ]
  },
  {
   "cell_type": "code",
   "execution_count": 802,
   "metadata": {},
   "outputs": [],
   "source": [
    "df = merged_data.copy()"
   ]
  },
  {
   "cell_type": "code",
   "execution_count": 803,
   "metadata": {},
   "outputs": [],
   "source": [
    "df['games_missed'] = df['Week'] - df['Games_Played']"
   ]
  },
  {
   "cell_type": "code",
   "execution_count": 804,
   "metadata": {},
   "outputs": [],
   "source": [
    "from sklearn.preprocessing import OrdinalEncoder\n",
    "home = df[['home_away']]\n",
    "encoder_home = OrdinalEncoder()\n",
    "encoder_home.fit(home)\n",
    "home_encoded = encoder_home.transform(home)\n",
    "home_encoded = home_encoded.flatten()\n",
    "df['home_away'] = home_encoded"
   ]
  },
  {
   "cell_type": "code",
   "execution_count": 805,
   "metadata": {},
   "outputs": [],
   "source": [
    "dome = df[['Dome']]\n",
    "encoder_dome = OrdinalEncoder()\n",
    "encoder_dome.fit(dome)\n",
    "dome_encoded = encoder_dome.transform(dome)\n",
    "dome_encoded = dome_encoded.flatten()\n",
    "df['Dome'] = dome_encoded"
   ]
  },
  {
   "cell_type": "code",
   "execution_count": 806,
   "metadata": {},
   "outputs": [],
   "source": [
    "df = df.drop('Date', axis=1)"
   ]
  },
  {
   "cell_type": "code",
   "execution_count": 807,
   "metadata": {},
   "outputs": [],
   "source": [
    "df = df.dropna()"
   ]
  },
  {
   "cell_type": "code",
   "execution_count": 817,
   "metadata": {},
   "outputs": [],
   "source": [
    "categoricals = ['Team', 'Name','Week', 'Opponent', 'Position', 'Year']\n",
    "df_no_cats = df.drop(categoricals, axis=1)"
   ]
  },
  {
   "cell_type": "code",
   "execution_count": 818,
   "metadata": {},
   "outputs": [],
   "source": [
    "df_cats = df[categoricals]"
   ]
  },
  {
   "cell_type": "code",
   "execution_count": 819,
   "metadata": {},
   "outputs": [],
   "source": [
    "df_no_cats['Points'] = df_no_cats['Points_Scored']\n",
    "df_no_cats = df_no_cats.drop('Points_Scored', axis=1)"
   ]
  },
  {
   "cell_type": "code",
   "execution_count": 820,
   "metadata": {},
   "outputs": [
    {
     "data": {
      "text/html": [
       "<table class=\"simpletable\">\n",
       "<caption>OLS Regression Results</caption>\n",
       "<tr>\n",
       "  <th>Dep. Variable:</th>         <td>Points</td>      <th>  R-squared:         </th> <td>   0.524</td> \n",
       "</tr>\n",
       "<tr>\n",
       "  <th>Model:</th>                   <td>OLS</td>       <th>  Adj. R-squared:    </th> <td>   0.524</td> \n",
       "</tr>\n",
       "<tr>\n",
       "  <th>Method:</th>             <td>Least Squares</td>  <th>  F-statistic:       </th> <td>2.422e+04</td>\n",
       "</tr>\n",
       "<tr>\n",
       "  <th>Date:</th>             <td>Thu, 23 Sep 2021</td> <th>  Prob (F-statistic):</th>  <td>  0.00</td>  \n",
       "</tr>\n",
       "<tr>\n",
       "  <th>Time:</th>                 <td>22:02:32</td>     <th>  Log-Likelihood:    </th> <td> -67418.</td> \n",
       "</tr>\n",
       "<tr>\n",
       "  <th>No. Observations:</th>      <td> 21974</td>      <th>  AIC:               </th> <td>1.348e+05</td>\n",
       "</tr>\n",
       "<tr>\n",
       "  <th>Df Residuals:</th>          <td> 21972</td>      <th>  BIC:               </th> <td>1.349e+05</td>\n",
       "</tr>\n",
       "<tr>\n",
       "  <th>Df Model:</th>              <td>     1</td>      <th>                     </th>     <td> </td>    \n",
       "</tr>\n",
       "<tr>\n",
       "  <th>Covariance Type:</th>      <td>nonrobust</td>    <th>                     </th>     <td> </td>    \n",
       "</tr>\n",
       "</table>\n",
       "<table class=\"simpletable\">\n",
       "<tr>\n",
       "      <td></td>         <th>coef</th>     <th>std err</th>      <th>t</th>      <th>P>|t|</th>  <th>[0.025</th>    <th>0.975]</th>  \n",
       "</tr>\n",
       "<tr>\n",
       "  <th>Intercept</th> <td>    0.2306</td> <td>    0.052</td> <td>    4.437</td> <td> 0.000</td> <td>    0.129</td> <td>    0.333</td>\n",
       "</tr>\n",
       "<tr>\n",
       "  <th>Projected</th> <td>    0.9770</td> <td>    0.006</td> <td>  155.614</td> <td> 0.000</td> <td>    0.965</td> <td>    0.989</td>\n",
       "</tr>\n",
       "</table>\n",
       "<table class=\"simpletable\">\n",
       "<tr>\n",
       "  <th>Omnibus:</th>       <td>5331.729</td> <th>  Durbin-Watson:     </th> <td>   1.505</td> \n",
       "</tr>\n",
       "<tr>\n",
       "  <th>Prob(Omnibus):</th>  <td> 0.000</td>  <th>  Jarque-Bera (JB):  </th> <td>17925.253</td>\n",
       "</tr>\n",
       "<tr>\n",
       "  <th>Skew:</th>           <td> 1.215</td>  <th>  Prob(JB):          </th> <td>    0.00</td> \n",
       "</tr>\n",
       "<tr>\n",
       "  <th>Kurtosis:</th>       <td> 6.697</td>  <th>  Cond. No.          </th> <td>    12.4</td> \n",
       "</tr>\n",
       "</table><br/><br/>Notes:<br/>[1] Standard Errors assume that the covariance matrix of the errors is correctly specified."
      ],
      "text/plain": [
       "<class 'statsmodels.iolib.summary.Summary'>\n",
       "\"\"\"\n",
       "                            OLS Regression Results                            \n",
       "==============================================================================\n",
       "Dep. Variable:                 Points   R-squared:                       0.524\n",
       "Model:                            OLS   Adj. R-squared:                  0.524\n",
       "Method:                 Least Squares   F-statistic:                 2.422e+04\n",
       "Date:                Thu, 23 Sep 2021   Prob (F-statistic):               0.00\n",
       "Time:                        22:02:32   Log-Likelihood:                -67418.\n",
       "No. Observations:               21974   AIC:                         1.348e+05\n",
       "Df Residuals:                   21972   BIC:                         1.349e+05\n",
       "Df Model:                           1                                         \n",
       "Covariance Type:            nonrobust                                         \n",
       "==============================================================================\n",
       "                 coef    std err          t      P>|t|      [0.025      0.975]\n",
       "------------------------------------------------------------------------------\n",
       "Intercept      0.2306      0.052      4.437      0.000       0.129       0.333\n",
       "Projected      0.9770      0.006    155.614      0.000       0.965       0.989\n",
       "==============================================================================\n",
       "Omnibus:                     5331.729   Durbin-Watson:                   1.505\n",
       "Prob(Omnibus):                  0.000   Jarque-Bera (JB):            17925.253\n",
       "Skew:                           1.215   Prob(JB):                         0.00\n",
       "Kurtosis:                       6.697   Cond. No.                         12.4\n",
       "==============================================================================\n",
       "\n",
       "Notes:\n",
       "[1] Standard Errors assume that the covariance matrix of the errors is correctly specified.\n",
       "\"\"\""
      ]
     },
     "execution_count": 820,
     "metadata": {},
     "output_type": "execute_result"
    }
   ],
   "source": [
    "multiple_formula = 'Points ~ Projected'\n",
    "multiple_model = ols(multiple_formula, df_no_cats).fit()\n",
    "multiple_model_summary = multiple_model.summary()\n",
    "multiple_model_summary"
   ]
  },
  {
   "cell_type": "code",
   "execution_count": 821,
   "metadata": {},
   "outputs": [],
   "source": [
    "correlation_matrix = df_no_cats.corr()"
   ]
  },
  {
   "cell_type": "code",
   "execution_count": 822,
   "metadata": {},
   "outputs": [
    {
     "data": {
      "text/html": [
       "<div>\n",
       "<style scoped>\n",
       "    .dataframe tbody tr th:only-of-type {\n",
       "        vertical-align: middle;\n",
       "    }\n",
       "\n",
       "    .dataframe tbody tr th {\n",
       "        vertical-align: top;\n",
       "    }\n",
       "\n",
       "    .dataframe thead th {\n",
       "        text-align: right;\n",
       "    }\n",
       "</style>\n",
       "<table border=\"1\" class=\"dataframe\">\n",
       "  <thead>\n",
       "    <tr style=\"text-align: right;\">\n",
       "      <th></th>\n",
       "      <th>cc</th>\n",
       "    </tr>\n",
       "    <tr>\n",
       "      <th>pairs</th>\n",
       "      <th></th>\n",
       "    </tr>\n",
       "  </thead>\n",
       "  <tbody>\n",
       "    <tr>\n",
       "      <th>(team_proj, line_close)</th>\n",
       "      <td>0.942065</td>\n",
       "    </tr>\n",
       "    <tr>\n",
       "      <th>(Projected, Salary)</th>\n",
       "      <td>0.908621</td>\n",
       "    </tr>\n",
       "    <tr>\n",
       "      <th>(Projected, FPPG)</th>\n",
       "      <td>0.902517</td>\n",
       "    </tr>\n",
       "    <tr>\n",
       "      <th>(Salary, FPPG)</th>\n",
       "      <td>0.870634</td>\n",
       "    </tr>\n",
       "    <tr>\n",
       "      <th>(Projected, Points)</th>\n",
       "      <td>0.724077</td>\n",
       "    </tr>\n",
       "    <tr>\n",
       "      <th>(FPPG, Points)</th>\n",
       "      <td>0.679076</td>\n",
       "    </tr>\n",
       "    <tr>\n",
       "      <th>(Salary, Points)</th>\n",
       "      <td>0.667927</td>\n",
       "    </tr>\n",
       "    <tr>\n",
       "      <th>(team_proj, over_under)</th>\n",
       "      <td>0.331917</td>\n",
       "    </tr>\n",
       "    <tr>\n",
       "      <th>(home_away, line_close)</th>\n",
       "      <td>0.269908</td>\n",
       "    </tr>\n",
       "    <tr>\n",
       "      <th>(team_proj, home_away)</th>\n",
       "      <td>0.253692</td>\n",
       "    </tr>\n",
       "  </tbody>\n",
       "</table>\n",
       "</div>"
      ],
      "text/plain": [
       "                               cc\n",
       "pairs                            \n",
       "(team_proj, line_close)  0.942065\n",
       "(Projected, Salary)      0.908621\n",
       "(Projected, FPPG)        0.902517\n",
       "(Salary, FPPG)           0.870634\n",
       "(Projected, Points)      0.724077\n",
       "(FPPG, Points)           0.679076\n",
       "(Salary, Points)         0.667927\n",
       "(team_proj, over_under)  0.331917\n",
       "(home_away, line_close)  0.269908\n",
       "(team_proj, home_away)   0.253692"
      ]
     },
     "execution_count": 822,
     "metadata": {},
     "output_type": "execute_result"
    }
   ],
   "source": [
    "df_corr=correlation_matrix.abs().stack().reset_index().sort_values(0, ascending=False)\n",
    "df_corr['pairs'] = list(zip(df_corr.level_0, df_corr.level_1))\n",
    "df_corr.set_index(['pairs'], inplace = True)\n",
    "df_corr.drop(columns=['level_1', 'level_0'], inplace = True)\n",
    "df_corr.columns = ['cc']\n",
    "df_corr.drop_duplicates(inplace=True)\n",
    "df_corr = df_corr[df_corr['cc'] < 1.0000]\n",
    "df_corr.head(10)"
   ]
  },
  {
   "cell_type": "code",
   "execution_count": 836,
   "metadata": {},
   "outputs": [
    {
     "data": {
      "text/plain": [
       "x1        0.724077\n",
       "x11       1.000000\n",
       "x0 x11    0.821284\n",
       "x1 x2     0.713767\n",
       "x1 x6     0.718832\n",
       "x1 x11    0.899535\n",
       "x2 x11    0.973664\n",
       "x3 x11    0.795347\n",
       "x4 x11    0.858827\n",
       "x6 x11    0.992105\n",
       "x7 x11    0.946917\n",
       "x9 x11    0.774699\n",
       "x11^2     0.916360\n",
       "Name: x11, dtype: float64"
      ]
     },
     "execution_count": 836,
     "metadata": {},
     "output_type": "execute_result"
    }
   ],
   "source": [
    "pf = PolynomialFeatures(degree=2)\n",
    "\n",
    "X = df_no_cats\n",
    "\n",
    "\n",
    "pf.fit(X)\n",
    "pdf = pd.DataFrame(pf.transform(X), columns=pf.get_feature_names())\n",
    "pdf\n",
    "corr_df = pdf.corr()\n",
    "corr_df[corr_df['x11'] > .7]['x11']"
   ]
  },
  {
   "cell_type": "code",
   "execution_count": 837,
   "metadata": {},
   "outputs": [],
   "source": [
    "categorical_pipeline = Pipeline(steps=[\n",
    "    ('ohe', OneHotEncoder(categories='auto',\n",
    "                          sparse=False))\n",
    "])"
   ]
  },
  {
   "cell_type": "code",
   "execution_count": 838,
   "metadata": {},
   "outputs": [],
   "source": [
    "cat_transformed = categorical_pipeline.fit_transform(df_cats)"
   ]
  },
  {
   "cell_type": "code",
   "execution_count": 839,
   "metadata": {},
   "outputs": [],
   "source": [
    "cat_encoded = pd.DataFrame(\n",
    "\n",
    "    cat_transformed,\n",
    "\n",
    "    columns=categorical_pipeline.named_steps['ohe'].get_feature_names(df_cats.columns),\n",
    " \n",
    "    index=df.index\n",
    ")"
   ]
  },
  {
   "cell_type": "code",
   "execution_count": 840,
   "metadata": {},
   "outputs": [
    {
     "data": {
      "text/html": [
       "<div>\n",
       "<style scoped>\n",
       "    .dataframe tbody tr th:only-of-type {\n",
       "        vertical-align: middle;\n",
       "    }\n",
       "\n",
       "    .dataframe tbody tr th {\n",
       "        vertical-align: top;\n",
       "    }\n",
       "\n",
       "    .dataframe thead th {\n",
       "        text-align: right;\n",
       "    }\n",
       "</style>\n",
       "<table border=\"1\" class=\"dataframe\">\n",
       "  <thead>\n",
       "    <tr style=\"text-align: right;\">\n",
       "      <th></th>\n",
       "      <th>Team_ARI</th>\n",
       "      <th>Team_ATL</th>\n",
       "      <th>Team_BAL</th>\n",
       "      <th>Team_BUF</th>\n",
       "      <th>Team_CAR</th>\n",
       "      <th>Team_CHI</th>\n",
       "      <th>Team_CIN</th>\n",
       "      <th>Team_CLE</th>\n",
       "      <th>Team_DAL</th>\n",
       "      <th>Team_DEN</th>\n",
       "      <th>...</th>\n",
       "      <th>Opponent_WAS</th>\n",
       "      <th>Position_QB</th>\n",
       "      <th>Position_RB</th>\n",
       "      <th>Position_TE</th>\n",
       "      <th>Position_WR</th>\n",
       "      <th>Year_2017</th>\n",
       "      <th>Year_2018</th>\n",
       "      <th>Year_2019</th>\n",
       "      <th>Year_2020</th>\n",
       "      <th>Year_2021</th>\n",
       "    </tr>\n",
       "  </thead>\n",
       "  <tbody>\n",
       "    <tr>\n",
       "      <th>0</th>\n",
       "      <td>0.0</td>\n",
       "      <td>0.0</td>\n",
       "      <td>0.0</td>\n",
       "      <td>0.0</td>\n",
       "      <td>0.0</td>\n",
       "      <td>0.0</td>\n",
       "      <td>0.0</td>\n",
       "      <td>0.0</td>\n",
       "      <td>0.0</td>\n",
       "      <td>0.0</td>\n",
       "      <td>...</td>\n",
       "      <td>0.0</td>\n",
       "      <td>0.0</td>\n",
       "      <td>1.0</td>\n",
       "      <td>0.0</td>\n",
       "      <td>0.0</td>\n",
       "      <td>1.0</td>\n",
       "      <td>0.0</td>\n",
       "      <td>0.0</td>\n",
       "      <td>0.0</td>\n",
       "      <td>0.0</td>\n",
       "    </tr>\n",
       "    <tr>\n",
       "      <th>1</th>\n",
       "      <td>0.0</td>\n",
       "      <td>0.0</td>\n",
       "      <td>0.0</td>\n",
       "      <td>0.0</td>\n",
       "      <td>0.0</td>\n",
       "      <td>0.0</td>\n",
       "      <td>0.0</td>\n",
       "      <td>0.0</td>\n",
       "      <td>0.0</td>\n",
       "      <td>0.0</td>\n",
       "      <td>...</td>\n",
       "      <td>0.0</td>\n",
       "      <td>1.0</td>\n",
       "      <td>0.0</td>\n",
       "      <td>0.0</td>\n",
       "      <td>0.0</td>\n",
       "      <td>1.0</td>\n",
       "      <td>0.0</td>\n",
       "      <td>0.0</td>\n",
       "      <td>0.0</td>\n",
       "      <td>0.0</td>\n",
       "    </tr>\n",
       "    <tr>\n",
       "      <th>2</th>\n",
       "      <td>0.0</td>\n",
       "      <td>0.0</td>\n",
       "      <td>0.0</td>\n",
       "      <td>0.0</td>\n",
       "      <td>0.0</td>\n",
       "      <td>0.0</td>\n",
       "      <td>0.0</td>\n",
       "      <td>0.0</td>\n",
       "      <td>0.0</td>\n",
       "      <td>0.0</td>\n",
       "      <td>...</td>\n",
       "      <td>0.0</td>\n",
       "      <td>0.0</td>\n",
       "      <td>0.0</td>\n",
       "      <td>0.0</td>\n",
       "      <td>1.0</td>\n",
       "      <td>1.0</td>\n",
       "      <td>0.0</td>\n",
       "      <td>0.0</td>\n",
       "      <td>0.0</td>\n",
       "      <td>0.0</td>\n",
       "    </tr>\n",
       "    <tr>\n",
       "      <th>3</th>\n",
       "      <td>0.0</td>\n",
       "      <td>0.0</td>\n",
       "      <td>0.0</td>\n",
       "      <td>0.0</td>\n",
       "      <td>0.0</td>\n",
       "      <td>0.0</td>\n",
       "      <td>0.0</td>\n",
       "      <td>0.0</td>\n",
       "      <td>0.0</td>\n",
       "      <td>0.0</td>\n",
       "      <td>...</td>\n",
       "      <td>0.0</td>\n",
       "      <td>0.0</td>\n",
       "      <td>1.0</td>\n",
       "      <td>0.0</td>\n",
       "      <td>0.0</td>\n",
       "      <td>1.0</td>\n",
       "      <td>0.0</td>\n",
       "      <td>0.0</td>\n",
       "      <td>0.0</td>\n",
       "      <td>0.0</td>\n",
       "    </tr>\n",
       "    <tr>\n",
       "      <th>4</th>\n",
       "      <td>0.0</td>\n",
       "      <td>0.0</td>\n",
       "      <td>0.0</td>\n",
       "      <td>0.0</td>\n",
       "      <td>0.0</td>\n",
       "      <td>0.0</td>\n",
       "      <td>0.0</td>\n",
       "      <td>0.0</td>\n",
       "      <td>0.0</td>\n",
       "      <td>0.0</td>\n",
       "      <td>...</td>\n",
       "      <td>0.0</td>\n",
       "      <td>0.0</td>\n",
       "      <td>0.0</td>\n",
       "      <td>1.0</td>\n",
       "      <td>0.0</td>\n",
       "      <td>1.0</td>\n",
       "      <td>0.0</td>\n",
       "      <td>0.0</td>\n",
       "      <td>0.0</td>\n",
       "      <td>0.0</td>\n",
       "    </tr>\n",
       "    <tr>\n",
       "      <th>...</th>\n",
       "      <td>...</td>\n",
       "      <td>...</td>\n",
       "      <td>...</td>\n",
       "      <td>...</td>\n",
       "      <td>...</td>\n",
       "      <td>...</td>\n",
       "      <td>...</td>\n",
       "      <td>...</td>\n",
       "      <td>...</td>\n",
       "      <td>...</td>\n",
       "      <td>...</td>\n",
       "      <td>...</td>\n",
       "      <td>...</td>\n",
       "      <td>...</td>\n",
       "      <td>...</td>\n",
       "      <td>...</td>\n",
       "      <td>...</td>\n",
       "      <td>...</td>\n",
       "      <td>...</td>\n",
       "      <td>...</td>\n",
       "      <td>...</td>\n",
       "    </tr>\n",
       "    <tr>\n",
       "      <th>23029</th>\n",
       "      <td>0.0</td>\n",
       "      <td>0.0</td>\n",
       "      <td>0.0</td>\n",
       "      <td>0.0</td>\n",
       "      <td>0.0</td>\n",
       "      <td>0.0</td>\n",
       "      <td>0.0</td>\n",
       "      <td>0.0</td>\n",
       "      <td>0.0</td>\n",
       "      <td>0.0</td>\n",
       "      <td>...</td>\n",
       "      <td>0.0</td>\n",
       "      <td>0.0</td>\n",
       "      <td>0.0</td>\n",
       "      <td>1.0</td>\n",
       "      <td>0.0</td>\n",
       "      <td>0.0</td>\n",
       "      <td>0.0</td>\n",
       "      <td>0.0</td>\n",
       "      <td>0.0</td>\n",
       "      <td>1.0</td>\n",
       "    </tr>\n",
       "    <tr>\n",
       "      <th>23031</th>\n",
       "      <td>0.0</td>\n",
       "      <td>0.0</td>\n",
       "      <td>0.0</td>\n",
       "      <td>0.0</td>\n",
       "      <td>0.0</td>\n",
       "      <td>0.0</td>\n",
       "      <td>0.0</td>\n",
       "      <td>0.0</td>\n",
       "      <td>0.0</td>\n",
       "      <td>0.0</td>\n",
       "      <td>...</td>\n",
       "      <td>0.0</td>\n",
       "      <td>1.0</td>\n",
       "      <td>0.0</td>\n",
       "      <td>0.0</td>\n",
       "      <td>0.0</td>\n",
       "      <td>0.0</td>\n",
       "      <td>0.0</td>\n",
       "      <td>0.0</td>\n",
       "      <td>0.0</td>\n",
       "      <td>1.0</td>\n",
       "    </tr>\n",
       "    <tr>\n",
       "      <th>23032</th>\n",
       "      <td>0.0</td>\n",
       "      <td>0.0</td>\n",
       "      <td>0.0</td>\n",
       "      <td>0.0</td>\n",
       "      <td>0.0</td>\n",
       "      <td>0.0</td>\n",
       "      <td>0.0</td>\n",
       "      <td>0.0</td>\n",
       "      <td>0.0</td>\n",
       "      <td>0.0</td>\n",
       "      <td>...</td>\n",
       "      <td>0.0</td>\n",
       "      <td>0.0</td>\n",
       "      <td>0.0</td>\n",
       "      <td>0.0</td>\n",
       "      <td>1.0</td>\n",
       "      <td>0.0</td>\n",
       "      <td>0.0</td>\n",
       "      <td>0.0</td>\n",
       "      <td>0.0</td>\n",
       "      <td>1.0</td>\n",
       "    </tr>\n",
       "    <tr>\n",
       "      <th>23033</th>\n",
       "      <td>0.0</td>\n",
       "      <td>0.0</td>\n",
       "      <td>0.0</td>\n",
       "      <td>0.0</td>\n",
       "      <td>0.0</td>\n",
       "      <td>0.0</td>\n",
       "      <td>0.0</td>\n",
       "      <td>0.0</td>\n",
       "      <td>0.0</td>\n",
       "      <td>0.0</td>\n",
       "      <td>...</td>\n",
       "      <td>0.0</td>\n",
       "      <td>0.0</td>\n",
       "      <td>0.0</td>\n",
       "      <td>1.0</td>\n",
       "      <td>0.0</td>\n",
       "      <td>0.0</td>\n",
       "      <td>0.0</td>\n",
       "      <td>0.0</td>\n",
       "      <td>0.0</td>\n",
       "      <td>1.0</td>\n",
       "    </tr>\n",
       "    <tr>\n",
       "      <th>23035</th>\n",
       "      <td>0.0</td>\n",
       "      <td>0.0</td>\n",
       "      <td>0.0</td>\n",
       "      <td>0.0</td>\n",
       "      <td>0.0</td>\n",
       "      <td>0.0</td>\n",
       "      <td>0.0</td>\n",
       "      <td>0.0</td>\n",
       "      <td>0.0</td>\n",
       "      <td>0.0</td>\n",
       "      <td>...</td>\n",
       "      <td>0.0</td>\n",
       "      <td>0.0</td>\n",
       "      <td>0.0</td>\n",
       "      <td>0.0</td>\n",
       "      <td>1.0</td>\n",
       "      <td>0.0</td>\n",
       "      <td>0.0</td>\n",
       "      <td>0.0</td>\n",
       "      <td>0.0</td>\n",
       "      <td>1.0</td>\n",
       "    </tr>\n",
       "  </tbody>\n",
       "</table>\n",
       "<p>21974 rows × 1088 columns</p>\n",
       "</div>"
      ],
      "text/plain": [
       "       Team_ARI  Team_ATL  Team_BAL  Team_BUF  Team_CAR  Team_CHI  Team_CIN  \\\n",
       "0           0.0       0.0       0.0       0.0       0.0       0.0       0.0   \n",
       "1           0.0       0.0       0.0       0.0       0.0       0.0       0.0   \n",
       "2           0.0       0.0       0.0       0.0       0.0       0.0       0.0   \n",
       "3           0.0       0.0       0.0       0.0       0.0       0.0       0.0   \n",
       "4           0.0       0.0       0.0       0.0       0.0       0.0       0.0   \n",
       "...         ...       ...       ...       ...       ...       ...       ...   \n",
       "23029       0.0       0.0       0.0       0.0       0.0       0.0       0.0   \n",
       "23031       0.0       0.0       0.0       0.0       0.0       0.0       0.0   \n",
       "23032       0.0       0.0       0.0       0.0       0.0       0.0       0.0   \n",
       "23033       0.0       0.0       0.0       0.0       0.0       0.0       0.0   \n",
       "23035       0.0       0.0       0.0       0.0       0.0       0.0       0.0   \n",
       "\n",
       "       Team_CLE  Team_DAL  Team_DEN  ...  Opponent_WAS  Position_QB  \\\n",
       "0           0.0       0.0       0.0  ...           0.0          0.0   \n",
       "1           0.0       0.0       0.0  ...           0.0          1.0   \n",
       "2           0.0       0.0       0.0  ...           0.0          0.0   \n",
       "3           0.0       0.0       0.0  ...           0.0          0.0   \n",
       "4           0.0       0.0       0.0  ...           0.0          0.0   \n",
       "...         ...       ...       ...  ...           ...          ...   \n",
       "23029       0.0       0.0       0.0  ...           0.0          0.0   \n",
       "23031       0.0       0.0       0.0  ...           0.0          1.0   \n",
       "23032       0.0       0.0       0.0  ...           0.0          0.0   \n",
       "23033       0.0       0.0       0.0  ...           0.0          0.0   \n",
       "23035       0.0       0.0       0.0  ...           0.0          0.0   \n",
       "\n",
       "       Position_RB  Position_TE  Position_WR  Year_2017  Year_2018  Year_2019  \\\n",
       "0              1.0          0.0          0.0        1.0        0.0        0.0   \n",
       "1              0.0          0.0          0.0        1.0        0.0        0.0   \n",
       "2              0.0          0.0          1.0        1.0        0.0        0.0   \n",
       "3              1.0          0.0          0.0        1.0        0.0        0.0   \n",
       "4              0.0          1.0          0.0        1.0        0.0        0.0   \n",
       "...            ...          ...          ...        ...        ...        ...   \n",
       "23029          0.0          1.0          0.0        0.0        0.0        0.0   \n",
       "23031          0.0          0.0          0.0        0.0        0.0        0.0   \n",
       "23032          0.0          0.0          1.0        0.0        0.0        0.0   \n",
       "23033          0.0          1.0          0.0        0.0        0.0        0.0   \n",
       "23035          0.0          0.0          1.0        0.0        0.0        0.0   \n",
       "\n",
       "       Year_2020  Year_2021  \n",
       "0            0.0        0.0  \n",
       "1            0.0        0.0  \n",
       "2            0.0        0.0  \n",
       "3            0.0        0.0  \n",
       "4            0.0        0.0  \n",
       "...          ...        ...  \n",
       "23029        0.0        1.0  \n",
       "23031        0.0        1.0  \n",
       "23032        0.0        1.0  \n",
       "23033        0.0        1.0  \n",
       "23035        0.0        1.0  \n",
       "\n",
       "[21974 rows x 1088 columns]"
      ]
     },
     "execution_count": 840,
     "metadata": {},
     "output_type": "execute_result"
    }
   ],
   "source": [
    "cat_encoded"
   ]
  },
  {
   "cell_type": "code",
   "execution_count": 841,
   "metadata": {},
   "outputs": [
    {
     "data": {
      "text/plain": [
       "0.5284309430775925"
      ]
     },
     "execution_count": 841,
     "metadata": {},
     "output_type": "execute_result"
    }
   ],
   "source": [
    "from sklearn.linear_model import LinearRegression\n",
    "y = df['Points_Scored']\n",
    "X = df_no_cats[['OPRNK', 'Projected', 'FPPG', 'home_away', 'team_proj', 'Salary', 'Dome']]\n",
    "\n",
    "model = LinearRegression()\n",
    "model.fit(X, y)\n",
    "model.score(X,y)"
   ]
  },
  {
   "cell_type": "code",
   "execution_count": 842,
   "metadata": {},
   "outputs": [],
   "source": [
    "X = pd.concat([X.reset_index(drop=True), cat_encoded.reset_index(drop=True)], axis=1)"
   ]
  },
  {
   "cell_type": "code",
   "execution_count": 843,
   "metadata": {},
   "outputs": [
    {
     "data": {
      "text/plain": [
       "0.5525713244311579"
      ]
     },
     "execution_count": 843,
     "metadata": {},
     "output_type": "execute_result"
    }
   ],
   "source": [
    "model = LinearRegression()\n",
    "model.fit(X, y)\n",
    "model.score(X,y)"
   ]
  },
  {
   "cell_type": "code",
   "execution_count": 844,
   "metadata": {},
   "outputs": [
    {
     "data": {
      "text/html": [
       "<div>\n",
       "<style scoped>\n",
       "    .dataframe tbody tr th:only-of-type {\n",
       "        vertical-align: middle;\n",
       "    }\n",
       "\n",
       "    .dataframe tbody tr th {\n",
       "        vertical-align: top;\n",
       "    }\n",
       "\n",
       "    .dataframe thead th {\n",
       "        text-align: right;\n",
       "    }\n",
       "</style>\n",
       "<table border=\"1\" class=\"dataframe\">\n",
       "  <thead>\n",
       "    <tr style=\"text-align: right;\">\n",
       "      <th></th>\n",
       "      <th>OPRNK</th>\n",
       "      <th>Projected</th>\n",
       "      <th>FPPG</th>\n",
       "      <th>home_away</th>\n",
       "      <th>team_proj</th>\n",
       "      <th>Salary</th>\n",
       "      <th>Dome</th>\n",
       "      <th>Team_ARI</th>\n",
       "      <th>Team_ATL</th>\n",
       "      <th>Team_BAL</th>\n",
       "      <th>...</th>\n",
       "      <th>Opponent_WAS</th>\n",
       "      <th>Position_QB</th>\n",
       "      <th>Position_RB</th>\n",
       "      <th>Position_TE</th>\n",
       "      <th>Position_WR</th>\n",
       "      <th>Year_2017</th>\n",
       "      <th>Year_2018</th>\n",
       "      <th>Year_2019</th>\n",
       "      <th>Year_2020</th>\n",
       "      <th>Year_2021</th>\n",
       "    </tr>\n",
       "  </thead>\n",
       "  <tbody>\n",
       "    <tr>\n",
       "      <th>0</th>\n",
       "      <td>3.0</td>\n",
       "      <td>10.73</td>\n",
       "      <td>23.6</td>\n",
       "      <td>0.0</td>\n",
       "      <td>15.75</td>\n",
       "      <td>6400</td>\n",
       "      <td>1.0</td>\n",
       "      <td>0.0</td>\n",
       "      <td>0.0</td>\n",
       "      <td>0.0</td>\n",
       "      <td>...</td>\n",
       "      <td>0.0</td>\n",
       "      <td>0.0</td>\n",
       "      <td>1.0</td>\n",
       "      <td>0.0</td>\n",
       "      <td>0.0</td>\n",
       "      <td>1.0</td>\n",
       "      <td>0.0</td>\n",
       "      <td>0.0</td>\n",
       "      <td>0.0</td>\n",
       "      <td>0.0</td>\n",
       "    </tr>\n",
       "    <tr>\n",
       "      <th>1</th>\n",
       "      <td>11.0</td>\n",
       "      <td>14.69</td>\n",
       "      <td>21.9</td>\n",
       "      <td>0.0</td>\n",
       "      <td>15.75</td>\n",
       "      <td>6900</td>\n",
       "      <td>1.0</td>\n",
       "      <td>0.0</td>\n",
       "      <td>0.0</td>\n",
       "      <td>0.0</td>\n",
       "      <td>...</td>\n",
       "      <td>0.0</td>\n",
       "      <td>1.0</td>\n",
       "      <td>0.0</td>\n",
       "      <td>0.0</td>\n",
       "      <td>0.0</td>\n",
       "      <td>1.0</td>\n",
       "      <td>0.0</td>\n",
       "      <td>0.0</td>\n",
       "      <td>0.0</td>\n",
       "      <td>0.0</td>\n",
       "    </tr>\n",
       "    <tr>\n",
       "      <th>2</th>\n",
       "      <td>9.0</td>\n",
       "      <td>10.48</td>\n",
       "      <td>14.8</td>\n",
       "      <td>0.0</td>\n",
       "      <td>15.75</td>\n",
       "      <td>6700</td>\n",
       "      <td>1.0</td>\n",
       "      <td>0.0</td>\n",
       "      <td>0.0</td>\n",
       "      <td>0.0</td>\n",
       "      <td>...</td>\n",
       "      <td>0.0</td>\n",
       "      <td>0.0</td>\n",
       "      <td>0.0</td>\n",
       "      <td>0.0</td>\n",
       "      <td>1.0</td>\n",
       "      <td>1.0</td>\n",
       "      <td>0.0</td>\n",
       "      <td>0.0</td>\n",
       "      <td>0.0</td>\n",
       "      <td>0.0</td>\n",
       "    </tr>\n",
       "    <tr>\n",
       "      <th>3</th>\n",
       "      <td>3.0</td>\n",
       "      <td>4.27</td>\n",
       "      <td>4.6</td>\n",
       "      <td>0.0</td>\n",
       "      <td>15.75</td>\n",
       "      <td>5000</td>\n",
       "      <td>1.0</td>\n",
       "      <td>0.0</td>\n",
       "      <td>0.0</td>\n",
       "      <td>0.0</td>\n",
       "      <td>...</td>\n",
       "      <td>0.0</td>\n",
       "      <td>0.0</td>\n",
       "      <td>1.0</td>\n",
       "      <td>0.0</td>\n",
       "      <td>0.0</td>\n",
       "      <td>1.0</td>\n",
       "      <td>0.0</td>\n",
       "      <td>0.0</td>\n",
       "      <td>0.0</td>\n",
       "      <td>0.0</td>\n",
       "    </tr>\n",
       "    <tr>\n",
       "      <th>4</th>\n",
       "      <td>6.0</td>\n",
       "      <td>2.03</td>\n",
       "      <td>2.5</td>\n",
       "      <td>0.0</td>\n",
       "      <td>15.75</td>\n",
       "      <td>4500</td>\n",
       "      <td>1.0</td>\n",
       "      <td>0.0</td>\n",
       "      <td>0.0</td>\n",
       "      <td>0.0</td>\n",
       "      <td>...</td>\n",
       "      <td>0.0</td>\n",
       "      <td>0.0</td>\n",
       "      <td>0.0</td>\n",
       "      <td>1.0</td>\n",
       "      <td>0.0</td>\n",
       "      <td>1.0</td>\n",
       "      <td>0.0</td>\n",
       "      <td>0.0</td>\n",
       "      <td>0.0</td>\n",
       "      <td>0.0</td>\n",
       "    </tr>\n",
       "    <tr>\n",
       "      <th>...</th>\n",
       "      <td>...</td>\n",
       "      <td>...</td>\n",
       "      <td>...</td>\n",
       "      <td>...</td>\n",
       "      <td>...</td>\n",
       "      <td>...</td>\n",
       "      <td>...</td>\n",
       "      <td>...</td>\n",
       "      <td>...</td>\n",
       "      <td>...</td>\n",
       "      <td>...</td>\n",
       "      <td>...</td>\n",
       "      <td>...</td>\n",
       "      <td>...</td>\n",
       "      <td>...</td>\n",
       "      <td>...</td>\n",
       "      <td>...</td>\n",
       "      <td>...</td>\n",
       "      <td>...</td>\n",
       "      <td>...</td>\n",
       "      <td>...</td>\n",
       "    </tr>\n",
       "    <tr>\n",
       "      <th>21969</th>\n",
       "      <td>10.0</td>\n",
       "      <td>0.37</td>\n",
       "      <td>0.0</td>\n",
       "      <td>1.0</td>\n",
       "      <td>20.25</td>\n",
       "      <td>4000</td>\n",
       "      <td>1.0</td>\n",
       "      <td>0.0</td>\n",
       "      <td>0.0</td>\n",
       "      <td>0.0</td>\n",
       "      <td>...</td>\n",
       "      <td>0.0</td>\n",
       "      <td>0.0</td>\n",
       "      <td>0.0</td>\n",
       "      <td>1.0</td>\n",
       "      <td>0.0</td>\n",
       "      <td>0.0</td>\n",
       "      <td>0.0</td>\n",
       "      <td>0.0</td>\n",
       "      <td>0.0</td>\n",
       "      <td>1.0</td>\n",
       "    </tr>\n",
       "    <tr>\n",
       "      <th>21970</th>\n",
       "      <td>4.0</td>\n",
       "      <td>16.97</td>\n",
       "      <td>17.2</td>\n",
       "      <td>1.0</td>\n",
       "      <td>20.25</td>\n",
       "      <td>6600</td>\n",
       "      <td>1.0</td>\n",
       "      <td>0.0</td>\n",
       "      <td>0.0</td>\n",
       "      <td>0.0</td>\n",
       "      <td>...</td>\n",
       "      <td>0.0</td>\n",
       "      <td>1.0</td>\n",
       "      <td>0.0</td>\n",
       "      <td>0.0</td>\n",
       "      <td>0.0</td>\n",
       "      <td>0.0</td>\n",
       "      <td>0.0</td>\n",
       "      <td>0.0</td>\n",
       "      <td>0.0</td>\n",
       "      <td>1.0</td>\n",
       "    </tr>\n",
       "    <tr>\n",
       "      <th>21971</th>\n",
       "      <td>10.0</td>\n",
       "      <td>0.50</td>\n",
       "      <td>0.0</td>\n",
       "      <td>1.0</td>\n",
       "      <td>20.25</td>\n",
       "      <td>4500</td>\n",
       "      <td>1.0</td>\n",
       "      <td>0.0</td>\n",
       "      <td>0.0</td>\n",
       "      <td>0.0</td>\n",
       "      <td>...</td>\n",
       "      <td>0.0</td>\n",
       "      <td>0.0</td>\n",
       "      <td>0.0</td>\n",
       "      <td>0.0</td>\n",
       "      <td>1.0</td>\n",
       "      <td>0.0</td>\n",
       "      <td>0.0</td>\n",
       "      <td>0.0</td>\n",
       "      <td>0.0</td>\n",
       "      <td>1.0</td>\n",
       "    </tr>\n",
       "    <tr>\n",
       "      <th>21972</th>\n",
       "      <td>10.0</td>\n",
       "      <td>2.53</td>\n",
       "      <td>1.4</td>\n",
       "      <td>1.0</td>\n",
       "      <td>20.25</td>\n",
       "      <td>4400</td>\n",
       "      <td>1.0</td>\n",
       "      <td>0.0</td>\n",
       "      <td>0.0</td>\n",
       "      <td>0.0</td>\n",
       "      <td>...</td>\n",
       "      <td>0.0</td>\n",
       "      <td>0.0</td>\n",
       "      <td>0.0</td>\n",
       "      <td>1.0</td>\n",
       "      <td>0.0</td>\n",
       "      <td>0.0</td>\n",
       "      <td>0.0</td>\n",
       "      <td>0.0</td>\n",
       "      <td>0.0</td>\n",
       "      <td>1.0</td>\n",
       "    </tr>\n",
       "    <tr>\n",
       "      <th>21973</th>\n",
       "      <td>10.0</td>\n",
       "      <td>1.28</td>\n",
       "      <td>0.0</td>\n",
       "      <td>1.0</td>\n",
       "      <td>20.25</td>\n",
       "      <td>4500</td>\n",
       "      <td>1.0</td>\n",
       "      <td>0.0</td>\n",
       "      <td>0.0</td>\n",
       "      <td>0.0</td>\n",
       "      <td>...</td>\n",
       "      <td>0.0</td>\n",
       "      <td>0.0</td>\n",
       "      <td>0.0</td>\n",
       "      <td>0.0</td>\n",
       "      <td>1.0</td>\n",
       "      <td>0.0</td>\n",
       "      <td>0.0</td>\n",
       "      <td>0.0</td>\n",
       "      <td>0.0</td>\n",
       "      <td>1.0</td>\n",
       "    </tr>\n",
       "  </tbody>\n",
       "</table>\n",
       "<p>21974 rows × 1095 columns</p>\n",
       "</div>"
      ],
      "text/plain": [
       "       OPRNK  Projected  FPPG  home_away  team_proj  Salary  Dome  Team_ARI  \\\n",
       "0        3.0      10.73  23.6        0.0      15.75    6400   1.0       0.0   \n",
       "1       11.0      14.69  21.9        0.0      15.75    6900   1.0       0.0   \n",
       "2        9.0      10.48  14.8        0.0      15.75    6700   1.0       0.0   \n",
       "3        3.0       4.27   4.6        0.0      15.75    5000   1.0       0.0   \n",
       "4        6.0       2.03   2.5        0.0      15.75    4500   1.0       0.0   \n",
       "...      ...        ...   ...        ...        ...     ...   ...       ...   \n",
       "21969   10.0       0.37   0.0        1.0      20.25    4000   1.0       0.0   \n",
       "21970    4.0      16.97  17.2        1.0      20.25    6600   1.0       0.0   \n",
       "21971   10.0       0.50   0.0        1.0      20.25    4500   1.0       0.0   \n",
       "21972   10.0       2.53   1.4        1.0      20.25    4400   1.0       0.0   \n",
       "21973   10.0       1.28   0.0        1.0      20.25    4500   1.0       0.0   \n",
       "\n",
       "       Team_ATL  Team_BAL  ...  Opponent_WAS  Position_QB  Position_RB  \\\n",
       "0           0.0       0.0  ...           0.0          0.0          1.0   \n",
       "1           0.0       0.0  ...           0.0          1.0          0.0   \n",
       "2           0.0       0.0  ...           0.0          0.0          0.0   \n",
       "3           0.0       0.0  ...           0.0          0.0          1.0   \n",
       "4           0.0       0.0  ...           0.0          0.0          0.0   \n",
       "...         ...       ...  ...           ...          ...          ...   \n",
       "21969       0.0       0.0  ...           0.0          0.0          0.0   \n",
       "21970       0.0       0.0  ...           0.0          1.0          0.0   \n",
       "21971       0.0       0.0  ...           0.0          0.0          0.0   \n",
       "21972       0.0       0.0  ...           0.0          0.0          0.0   \n",
       "21973       0.0       0.0  ...           0.0          0.0          0.0   \n",
       "\n",
       "       Position_TE  Position_WR  Year_2017  Year_2018  Year_2019  Year_2020  \\\n",
       "0              0.0          0.0        1.0        0.0        0.0        0.0   \n",
       "1              0.0          0.0        1.0        0.0        0.0        0.0   \n",
       "2              0.0          1.0        1.0        0.0        0.0        0.0   \n",
       "3              0.0          0.0        1.0        0.0        0.0        0.0   \n",
       "4              1.0          0.0        1.0        0.0        0.0        0.0   \n",
       "...            ...          ...        ...        ...        ...        ...   \n",
       "21969          1.0          0.0        0.0        0.0        0.0        0.0   \n",
       "21970          0.0          0.0        0.0        0.0        0.0        0.0   \n",
       "21971          0.0          1.0        0.0        0.0        0.0        0.0   \n",
       "21972          1.0          0.0        0.0        0.0        0.0        0.0   \n",
       "21973          0.0          1.0        0.0        0.0        0.0        0.0   \n",
       "\n",
       "       Year_2021  \n",
       "0            0.0  \n",
       "1            0.0  \n",
       "2            0.0  \n",
       "3            0.0  \n",
       "4            0.0  \n",
       "...          ...  \n",
       "21969        1.0  \n",
       "21970        1.0  \n",
       "21971        1.0  \n",
       "21972        1.0  \n",
       "21973        1.0  \n",
       "\n",
       "[21974 rows x 1095 columns]"
      ]
     },
     "execution_count": 844,
     "metadata": {},
     "output_type": "execute_result"
    }
   ],
   "source": [
    "X"
   ]
  },
  {
   "cell_type": "code",
   "execution_count": 845,
   "metadata": {},
   "outputs": [],
   "source": [
    "X['QB_proj'] = X['Position_QB'] * X['Projected'] * X['OPRNK']\n",
    "X['RB_proj'] = X['Position_RB'] * X['Projected'] * X['OPRNK']\n",
    "X['WR_proj'] = X['Position_WR'] * X['Projected'] * X['OPRNK']\n",
    "X['TE_proj'] = X['Position_TE'] * X['Projected'] * X['OPRNK']"
   ]
  },
  {
   "cell_type": "code",
   "execution_count": 846,
   "metadata": {},
   "outputs": [
    {
     "data": {
      "text/plain": [
       "0.5252168535305379"
      ]
     },
     "execution_count": 846,
     "metadata": {},
     "output_type": "execute_result"
    }
   ],
   "source": [
    "model = LinearRegression()\n",
    "model.fit(X, y)\n",
    "model.score(X,y)"
   ]
  },
  {
   "cell_type": "code",
   "execution_count": 847,
   "metadata": {},
   "outputs": [
    {
     "data": {
      "text/plain": [
       "0.5528438133403216"
      ]
     },
     "execution_count": 847,
     "metadata": {},
     "output_type": "execute_result"
    }
   ],
   "source": [
    "clf = Ridge()\n",
    "clf.fit(X, y)\n",
    "clf.score(X,y)"
   ]
  },
  {
   "cell_type": "code",
   "execution_count": 848,
   "metadata": {},
   "outputs": [],
   "source": [
    "preds = clf.predict(X)"
   ]
  },
  {
   "cell_type": "code",
   "execution_count": 849,
   "metadata": {},
   "outputs": [
    {
     "data": {
      "text/plain": [
       "25.44154824956804"
      ]
     },
     "execution_count": 849,
     "metadata": {},
     "output_type": "execute_result"
    }
   ],
   "source": [
    "mean_squared_error(df['Points_Scored'], preds)"
   ]
  },
  {
   "cell_type": "code",
   "execution_count": 850,
   "metadata": {},
   "outputs": [
    {
     "data": {
      "text/plain": [
       "27.090916214617273"
      ]
     },
     "execution_count": 850,
     "metadata": {},
     "output_type": "execute_result"
    }
   ],
   "source": [
    "mean_squared_error(df['Points_Scored'], df['Projected'])"
   ]
  },
  {
   "cell_type": "code",
   "execution_count": 851,
   "metadata": {},
   "outputs": [],
   "source": [
    "residual = y - clf.predict(X)"
   ]
  },
  {
   "cell_type": "code",
   "execution_count": 852,
   "metadata": {},
   "outputs": [
    {
     "data": {
      "image/png": "[encoded data removed]",
      "text/plain": [
       "<Figure size 720x432 with 1 Axes>"
      ]
     },
     "metadata": {
      "needs_background": "light"
     },
     "output_type": "display_data"
    }
   ],
   "source": [
    "fig, ax = plt.subplots(figsize=(10,6))\n",
    "ax.hist(residual, bins=30);"
   ]
  },
  {
   "cell_type": "code",
   "execution_count": null,
   "metadata": {},
   "outputs": [],
   "source": []
  }
 ],
 "metadata": {
  "kernelspec": {
   "display_name": "Python (learn-env)",
   "language": "python",
   "name": "learn-env"
  },
  "language_info": {
   "codemirror_mode": {
    "name": "ipython",
    "version": 3
   },
   "file_extension": ".py",
   "mimetype": "text/x-python",
   "name": "python",
   "nbconvert_exporter": "python",
   "pygments_lexer": "ipython3",
   "version": "3.8.5"
  }
 },
 "nbformat": 4,
 "nbformat_minor": 4
}
